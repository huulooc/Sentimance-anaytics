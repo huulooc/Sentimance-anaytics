{
  "nbformat": 4,
  "nbformat_minor": 0,
  "metadata": {
    "colab": {
      "provenance": []
    },
    "kernelspec": {
      "name": "python3",
      "display_name": "Python 3"
    },
    "language_info": {
      "name": "python"
    }
  },
  "cells": [
    {
      "cell_type": "code",
      "source": [
        "# -*- coding: utf-8 -*-\n",
        "!pip install pyvi\n",
        "from __future__ import print_function\n",
        "from sklearn import metrics\n",
        "from sklearn.pipeline import Pipeline\n",
        "from sklearn.feature_extraction.text import CountVectorizer,TfidfTransformer\n",
        "from sklearn.model_selection import train_test_split\n",
        "from sklearn.model_selection import cross_val_score\n",
        "from sklearn.svm import LinearSVC\n",
        "from sklearn.linear_model import LogisticRegression\n",
        "# from sklearn.neural_network import MLPClassifier\n",
        "# from sklearn.tree import DecisionTreeClassifier\n",
        "# from sklearn.naive_bayes import MultinomialNB\n",
        "# from sklearn.linear_model import SGDClassifier\n",
        "# from sklearn.neighbors import KNeighborsClassifier\n",
        "# from sklearn.ensemble import AdaBoostClassifier\n",
        "# from sklearn.ensemble import RandomForestClassifier\n",
        "import pandas as pd\n",
        "from pyvi import ViTokenizer\n",
        "import re\n",
        "import string\n",
        "import codecs\n",
        "import json"
      ],
      "metadata": {
        "colab": {
          "base_uri": "https://localhost:8080/"
        },
        "id": "ePCcovm2p7g6",
        "outputId": "d35ba9cd-867d-4660-f5f4-945232683c71"
      },
      "execution_count": null,
      "outputs": [
        {
          "output_type": "stream",
          "name": "stdout",
          "text": [
            "Collecting pyvi\n",
            "  Downloading pyvi-0.1.1-py2.py3-none-any.whl (8.5 MB)\n",
            "\u001b[2K     \u001b[90m━━━━━━━━━━━━━━━━━━━━━━━━━━━━━━━━━━━━━━━━\u001b[0m \u001b[32m8.5/8.5 MB\u001b[0m \u001b[31m34.6 MB/s\u001b[0m eta \u001b[36m0:00:00\u001b[0m\n",
            "\u001b[?25hRequirement already satisfied: scikit-learn in /usr/local/lib/python3.10/dist-packages (from pyvi) (1.2.2)\n",
            "Collecting sklearn-crfsuite (from pyvi)\n",
            "  Downloading sklearn_crfsuite-0.3.6-py2.py3-none-any.whl (12 kB)\n",
            "Requirement already satisfied: numpy>=1.17.3 in /usr/local/lib/python3.10/dist-packages (from scikit-learn->pyvi) (1.23.5)\n",
            "Requirement already satisfied: scipy>=1.3.2 in /usr/local/lib/python3.10/dist-packages (from scikit-learn->pyvi) (1.11.4)\n",
            "Requirement already satisfied: joblib>=1.1.1 in /usr/local/lib/python3.10/dist-packages (from scikit-learn->pyvi) (1.3.2)\n",
            "Requirement already satisfied: threadpoolctl>=2.0.0 in /usr/local/lib/python3.10/dist-packages (from scikit-learn->pyvi) (3.2.0)\n",
            "Collecting python-crfsuite>=0.8.3 (from sklearn-crfsuite->pyvi)\n",
            "  Downloading python_crfsuite-0.9.9-cp310-cp310-manylinux_2_17_x86_64.manylinux2014_x86_64.whl (993 kB)\n",
            "\u001b[2K     \u001b[90m━━━━━━━━━━━━━━━━━━━━━━━━━━━━━━━━━━━━━━━━\u001b[0m \u001b[32m993.5/993.5 kB\u001b[0m \u001b[31m64.2 MB/s\u001b[0m eta \u001b[36m0:00:00\u001b[0m\n",
            "\u001b[?25hRequirement already satisfied: six in /usr/local/lib/python3.10/dist-packages (from sklearn-crfsuite->pyvi) (1.16.0)\n",
            "Requirement already satisfied: tabulate in /usr/local/lib/python3.10/dist-packages (from sklearn-crfsuite->pyvi) (0.9.0)\n",
            "Requirement already satisfied: tqdm>=2.0 in /usr/local/lib/python3.10/dist-packages (from sklearn-crfsuite->pyvi) (4.66.1)\n",
            "Installing collected packages: python-crfsuite, sklearn-crfsuite, pyvi\n",
            "Successfully installed python-crfsuite-0.9.9 pyvi-0.1.1 sklearn-crfsuite-0.3.6\n"
          ]
        }
      ]
    },
    {
      "cell_type": "code",
      "source": [
        "### tiền sử lý văn bản, chuẩn hóa dữ liệu"
      ],
      "metadata": {
        "id": "63gEByeC3iNI"
      },
      "execution_count": null,
      "outputs": []
    },
    {
      "cell_type": "code",
      "source": [
        "#Từ điển tích cực, tiêu cực, phủ định\n",
        "path_nag = '/content/drive/MyDrive/sentiment_analysis/data_clean/VietNamese_sentiment_dictionary/nag.txt'\n",
        "path_pos = '/content/drive/MyDrive/sentiment_analysis/data_clean/VietNamese_sentiment_dictionary/pos.txt'\n",
        "path_not = '/content/drive/MyDrive/sentiment_analysis/data_clean/VietNamese_sentiment_dictionary/not.txt'\n",
        "\n",
        "with codecs.open(path_nag, 'r', encoding='UTF-8') as f:\n",
        "    nag = f.readlines()\n",
        "nag_list = [n.replace('\\n', '') for n in nag]\n",
        "\n",
        "with codecs.open(path_pos, 'r', encoding='UTF-8') as f:\n",
        "    pos = f.readlines()\n",
        "pos_list = [n.replace('\\n', '') for n in pos]\n",
        "with codecs.open(path_not, 'r', encoding='UTF-8') as f:\n",
        "    not_ = f.readlines()\n",
        "not_list = [n.replace('\\n', '') for n in not_]\n",
        "\n",
        "# xác định các kí tự có dấu trong tiếng Việt\n",
        "VN_CHARS_LOWER = u'ạảãàáâậầấẩẫăắằặẳẵóòọõỏôộổỗồốơờớợởỡéèẻẹẽêếềệểễúùụủũưựữửừứíìịỉĩýỳỷỵỹđð'\n",
        "VN_CHARS_UPPER = u'ẠẢÃÀÁÂẬẦẤẨẪĂẮẰẶẲẴÓÒỌÕỎÔỘỔỖỒỐƠỜỚỢỞỠÉÈẺẸẼÊẾỀỆỂỄÚÙỤỦŨƯỰỮỬỪỨÍÌỊỈĨÝỲỶỴỸÐĐ'\n",
        "VN_CHARS = VN_CHARS_LOWER + VN_CHARS_UPPER"
      ],
      "metadata": {
        "id": "-OMbmAdiqIBP"
      },
      "execution_count": null,
      "outputs": []
    },
    {
      "cell_type": "code",
      "source": [
        "#Viết hàm loại bỏ dấu ủa kí tự\n",
        "def no_marks(s):\n",
        "    __INTAB = [ch for ch in VN_CHARS]\n",
        "    __OUTTAB = \"a\"*17 + \"o\"*17 + \"e\"*11 + \"u\"*11 + \"i\"*5 + \"y\"*5 + \"d\"*2\n",
        "    __OUTTAB += \"A\"*17 + \"O\"*17 + \"E\"*11 + \"U\"*11 + \"I\"*5 + \"Y\"*5 + \"D\"*2\n",
        "    __r = re.compile(\"|\".join(__INTAB))\n",
        "    __replaces_dict = dict(zip(__INTAB, __OUTTAB))\n",
        "    result = __r.sub(lambda m: __replaces_dict[m.group(0)], s)\n",
        "    return result\n"
      ],
      "metadata": {
        "id": "Sml5ZC4b-hPh"
      },
      "execution_count": null,
      "outputs": []
    },
    {
      "cell_type": "code",
      "source": [
        "#Viết hàm để chuẩn hóa các từ teencode, emoji, sai chính tả, tiếng anh, dấu câu,...\n",
        "def normalize_text(text):\n",
        "\n",
        "    #Remove các ký tự kéo dài: vd: đẹppppppp\n",
        "    text = re.sub(r'([A-Z])\\1+', lambda m: m.group(1).upper(), text, flags=re.IGNORECASE)\n",
        "\n",
        "    # Chuyển thành chữ thường\n",
        "    text = text.lower()\n",
        "\n",
        "    #Chuẩn hóa tiếng Việt, xử lý emoj, chuẩn hóa tiếng Anh, thuật ngữ\n",
        "    with open('/content/drive/MyDrive/sentiment_analysis/list.json', 'r',encoding='utf-8') as file:\n",
        "        data = json.load(file)\n",
        "\n",
        "    replace_list = data\n",
        "\n",
        "    for k, v in replace_list.items():\n",
        "        text = text.replace(k, v)\n",
        "\n",
        "    # chuyển dấu câu thành space\n",
        "    translator = str.maketrans(string.punctuation, ' ' * len(string.punctuation))\n",
        "    text = text.translate(translator)\n",
        "\n",
        "    text = ViTokenizer.tokenize(text)  # Thực hiện tokennize các câu\n",
        "    texts = text.split()\n",
        "    len_text = len(texts)\n",
        "\n",
        "    texts = [t.replace('_', ' ') for t in texts]# bỏ dấu \"_\" trong các token\n",
        "\n",
        " # Xử lý vấn đề phủ định (VD: áo này chẳng đẹp--> áo này notpos)\n",
        "    for i in range(len_text):\n",
        "        cp_text = texts[i]\n",
        "        if cp_text in not_list: # nếu có từ phủ định thì thực hiện đổi thành 'notpos' hoặc 'notnag'\n",
        "            numb_word = 2 if len_text - i - 1 >= 4 else len_text - i - 1\n",
        "\n",
        "            for j in range(numb_word):\n",
        "                if texts[i + j + 1] in pos_list:\n",
        "                    texts[i] = 'notpos'\n",
        "                    texts[i + j + 1] = ''\n",
        "\n",
        "                if texts[i + j + 1] in nag_list:\n",
        "                    texts[i] = 'notnag'\n",
        "                    texts[i + j + 1] = ''\n",
        "        else: #Thêm feature cho những sentiment words vào cuối câu nếu nó không có từ phủ định (áo này đẹp--> áo này đẹp positive)\n",
        "            if cp_text in pos_list:\n",
        "                texts.append('positive')\n",
        "            elif cp_text in nag_list:\n",
        "                texts.append('nagative')\n",
        "\n",
        "    text = u' '.join(texts)\n",
        "\n",
        "    #remove nốt những ký tự thừa thãi như \"\", kí tự đặc biệt\n",
        "    text = text.replace(u'\"', u' ')\n",
        "    text = text.replace(u'️', u'')\n",
        "    text = text.replace('🏻','')\n",
        "    return text"
      ],
      "metadata": {
        "id": "y7kze6X14uMf"
      },
      "execution_count": null,
      "outputs": []
    },
    {
      "cell_type": "code",
      "source": [
        "#Text hàm chẩn hóa\n",
        "print(normalize_text('không đẹp xíu nào'))\n",
        "print(normalize_text('không xấu nha'))\n",
        "print(normalize_text(' đẹp quá'))\n",
        "print(normalize_text('sản phẩm không thể chê vào đâu được, quá tuyệt vời '))"
      ],
      "metadata": {
        "colab": {
          "base_uri": "https://localhost:8080/"
        },
        "id": "0H1ebbbRBzQU",
        "outputId": "01c5cbcb-912f-4401-fd7c-443fba1e1665"
      },
      "execution_count": null,
      "outputs": [
        {
          "output_type": "stream",
          "name": "stdout",
          "text": [
            "notpos  xíu nào\n",
            "notnag  nha\n",
            "đẹp quá positive\n",
            "sản phẩm không thể chê vào đâu được quá tuyệt vờ yêu positive positive positive\n"
          ]
        }
      ]
    },
    {
      "cell_type": "code",
      "source": [
        "# tạo class với các phương thức để truy cập dữ liệu\n",
        "class DataSource(object):\n",
        "    #Hàm đọc dữ liệu từ file và chia  thành các comment riêng biệt của từng khách hàng .\n",
        "    def _load_raw_data(self, filename, is_train=True):\n",
        "\n",
        "        a = []\n",
        "        b = []\n",
        "\n",
        "        regex = 'train_'\n",
        "        if not is_train:\n",
        "            regex = 'test_'\n",
        "\n",
        "        with open(filename, 'r') as file:\n",
        "            for line in file:\n",
        "                if regex in line:\n",
        "                    b.append(a)\n",
        "                    a = [line]\n",
        "                elif line != '\\n':\n",
        "                    a.append(line)\n",
        "        b.append(a)\n",
        "\n",
        "        return b[1:]\n",
        "    # Đối cới một khách hàng tạo ra một dictionary bao goomg ID, lable, và phần comment\n",
        "    def _create_row(self, sample, is_train=True):\n",
        "\n",
        "        d = {}\n",
        "        d['id'] = sample[0].replace('\\n', '')\n",
        "        review = \"\"\n",
        "\n",
        "        if is_train:\n",
        "            for clause in sample[1:-1]:\n",
        "                review += clause.replace('\\n', ' ')\n",
        "                review = review.replace('.', ' ')\n",
        "\n",
        "            d['label'] = int(sample[-1].replace('\\n', ' '))\n",
        "        else:\n",
        "            for clause in sample[1:]:\n",
        "                review += clause.replace('\\n', ' ')\n",
        "                review = review.replace('.', ' ')\n",
        "\n",
        "\n",
        "        d['review'] = review\n",
        "\n",
        "        return d\n",
        "    # Viết hàm thực hiện kết hợp hai phương thức _load_raw_data và _create_row để chiuyeenr tất cả dữ liệu thabhf một danh sách hoàn chỉnh\n",
        "    def load_data(self, filename, is_train=True):\n",
        "\n",
        "        raw_data = self._load_raw_data(filename, is_train)\n",
        "        lst = []\n",
        "\n",
        "        for row in raw_data:\n",
        "            lst.append(self._create_row(row, is_train))\n",
        "\n",
        "        return lst\n",
        "    # Hàm thực hiện việc chuẩn hóa dữ liệu\n",
        "    def transform_to_dataset(self, x_set,y_set):\n",
        "        X, y = [], []\n",
        "        for document, topic in zip(list(x_set), list(y_set)):\n",
        "            document = normalize_text(document)\n",
        "            X.append(document.strip())\n",
        "            y.append(topic)\n",
        "            #Augmentation bằng cách remove dấu tiếng Việt\n",
        "            X.append(no_marks(document))\n",
        "            y.append(topic)\n",
        "        return X, y\n"
      ],
      "metadata": {
        "id": "0L9E2GilDYxh"
      },
      "execution_count": null,
      "outputs": []
    },
    {
      "cell_type": "code",
      "source": [
        "##  load và xử lý dữ liệu từ train.crash cho tập train, sau đó nối thêm dữ liệu mới vào dữ liệu huấn luyện\n",
        "\n",
        "ds = DataSource()\n",
        "train_data = pd.DataFrame(ds.load_data('/content/drive/MyDrive/sentiment_analysis/data_clean/train.crash'))\n",
        "new_data = []\n",
        "\n",
        "#Thêm mẫu bằng cách lấy trong từ điển Sentiment (nag/pos)\n",
        "for index,row in enumerate(nag_list):\n",
        "    new_data.append(['pos'+str(index),'0',row])\n",
        "for index,row in enumerate(nag_list):\n",
        "    new_data.append(['nag'+str(index),'1',row])\n",
        "\n",
        "new_data = pd.DataFrame(new_data,columns=list(['id','label','review']))\n",
        "train_data.append(new_data)\n",
        "\n",
        "# load dữ liệu cho tập test từ test.crash\n",
        "test_data = pd.DataFrame(ds.load_data('/content/drive/MyDrive/sentiment_analysis/data_clean/test.crash', is_train=False))"
      ],
      "metadata": {
        "id": "ioWNAVNVJUh4",
        "colab": {
          "base_uri": "https://localhost:8080/"
        },
        "outputId": "72f65b9d-6471-4fa7-b4d9-fb3e8de3008c"
      },
      "execution_count": null,
      "outputs": [
        {
          "output_type": "stream",
          "name": "stderr",
          "text": [
            "<ipython-input-9-9917524a8c0f>:14: FutureWarning: The frame.append method is deprecated and will be removed from pandas in a future version. Use pandas.concat instead.\n",
            "  train_data.append(new_data)\n"
          ]
        }
      ]
    },
    {
      "cell_type": "code",
      "source": [
        "### Try model MultinomialNB\n",
        "# from sklearn.naive_bayes import MultinomialNB\n",
        "# from sklearn.svm import LinearSVC\n",
        "# classifiers = MultinomialNB(),"
      ],
      "metadata": {
        "id": "arErNvXUbq2H"
      },
      "execution_count": null,
      "outputs": []
    },
    {
      "cell_type": "code",
      "source": [
        "\n",
        "###Try model DecisionTreeClassifier\n",
        "# from sklearn.tree import DecisionTreeClassifier\n",
        "# classifiers = MultinomialNB(),"
      ],
      "metadata": {
        "id": "m1x7hjwGbtKP"
      },
      "execution_count": null,
      "outputs": []
    },
    {
      "cell_type": "code",
      "execution_count": null,
      "metadata": {
        "id": "46TA9T4MQxxL"
      },
      "outputs": [],
      "source": [
        "\n",
        "# model LinearSVC\n",
        "classifiers = LinearSVC(fit_intercept = True,multi_class='crammer_singer', C=1),\n",
        "\n",
        "\n",
        "##chuyển đổi dữ liệu kiểm tra thành dạng phù hợp để kiểm tra mô hình.\n",
        "X_train, X_test, y_train, y_test = train_test_split(train_data.review, train_data.label, test_size=0.3,random_state=42)\n",
        "X_train, y_train = ds.transform_to_dataset(X_train,y_train)\n",
        "X_test, y_test = ds.transform_to_dataset(X_test, y_test)\n",
        "\n"
      ]
    },
    {
      "cell_type": "code",
      "source": [
        "#THÊM STOPWORD LÀ NHỮNG TỪ KÉM QUAN TRỌNG\n",
        "stop_ws = [u'rằng',u'thì',u'là',u'mà']"
      ],
      "metadata": {
        "id": "EeTMoPRENuPa"
      },
      "execution_count": null,
      "outputs": []
    },
    {
      "cell_type": "code",
      "source": [
        "# Thực hiện mô hình phân loại và gán nhãn cho dữ liệu 0: posity, 1 negative\n",
        "for classifier in classifiers:\n",
        "    steps = []\n",
        "    steps.append(('CountVectorizer', CountVectorizer(ngram_range=(1,5),stop_words=stop_ws,max_df=0.5, min_df=5)))\n",
        "    steps.append(('tfidf', TfidfTransformer(use_idf=False, sublinear_tf = True,norm='l2',smooth_idf=True)))\n",
        "    steps.append(('classifier', classifier))\n",
        "    clf = Pipeline(steps)\n",
        "    clf.fit(X_train, y_train)\n",
        "    y_pred = clf.predict(X_test)\n",
        "    report1 = metrics.classification_report(y_test, y_pred, labels=[1,0], digits=3)\n",
        "\n",
        "X_train, y_train = ds.transform_to_dataset(train_data.review, train_data.label)\n",
        "\n",
        "\n"
      ],
      "metadata": {
        "id": "tv_d-YdXLaM-"
      },
      "execution_count": null,
      "outputs": []
    },
    {
      "cell_type": "code",
      "source": [
        "#TRAIN OVERFITTING/ERRO ANALYSIS\n",
        "clf.fit(X_train, y_train)\n",
        "y_pred = clf.predict(X_train)\n",
        "report2 = metrics.classification_report(y_train, y_pred, labels=[1,0], digits=3)\n"
      ],
      "metadata": {
        "id": "tMNdLYtdLcB0"
      },
      "execution_count": null,
      "outputs": []
    },
    {
      "cell_type": "code",
      "source": [
        "\n",
        "#ERRO ANALYSIS\n",
        "# Cho thấy các trường hợp mà nhãn dự đoán của mô hình (y_pred) không trùng khớp với nhãn thực tế (y_train).\n",
        "for id,x, y1, y2 in zip(train_data.id, X_train, y_train, y_pred):\n",
        "    if y1 != y2:\n",
        "        # CHECK EACH WRONG SAMPLE POSSITIVE/NAGATIVE\n",
        "        if y1!=1:#0:\n",
        "            print(id,x, y1, y2)# In ra các trường hợp phân loại sai\n"
      ],
      "metadata": {
        "id": "hZQxAnU2LdYR",
        "colab": {
          "base_uri": "https://localhost:8080/"
        },
        "outputId": "1772f796-2ac1-4c30-e94f-f69758ed5b46"
      },
      "execution_count": null,
      "outputs": [
        {
          "output_type": "stream",
          "name": "stdout",
          "text": [
            "train_000062 hàng vận chuyển bị nứt mẻ 1 góc chất lượng o không nagative nagative positive 0 1\n",
            "train_000063 hang van chuyen bi nut me 1 goc chat luong o khong nagative nagative positive 0 1\n",
            "train_000138 thờ yêu g yêu an g yêu ao hàng rất nhanh cửa hàng phuc vụ quá qua tệ hang bị hư hạ yêu ma hong lờ yêu g yêu a yêu quyết ngườ yêu khác da the ma nguo yêu k yêu a cũng vay hong chu đáo can xem xet lạ yêu kh yêu mau hàng cửa hàng nay nha cac ban positive positive positive nagative nagative nagative positive positive positive positive positive positive positive positive positive positive 0 1\n",
            "train_000139 tho yeu g yeu an g yeu ao hang rat nhanh cua hang phuc vu qua qua te hang bi hu ha yeu ma hong lo yeu g yeu a yeu quyet nguo yeu khac da the ma nguo yeu k yeu a cung vay hong chu dao can xem xet la yeu kh yeu mau hang cua hang nay nha cac ban positive positive positive nagative nagative nagative positive positive positive positive positive positive positive positive positive positive 0 1\n",
            "train_000424 tô yêu xà yêu m7 từ lúc mớ yêu ra tớ yêu g yêu ờ khôngcó lý do gì để đổ yêu máy khác phần cứng và phần mềm rất tuyệt vờ yêu tô yêu vô tình làm rớt từ độ cao hơn 1 mình khôngdướ yêu 10 lần mà g yêu ờ sử dụng vẫn o notpos ngoà  cá yêu võ bị xước positive positive positive positive positive positive positive positive positive positive positive positive nagative 0 1\n",
            "train_000687 lot mang to kha day do yeu duong kem cho trang nua tho yeu positive nagative positive 0 1\n",
            "train_000830 hũ nhựa có nắp kép ở trong sạch sẽ positive 0 1\n",
            "train_000831 hu nhua co nap kep o trong sach se positive 0 1\n",
            "train_000864 nhỏ hơn màn hình gì 7 pr yêu me rất nh yêu ều positive positive 0 1\n",
            "train_000865 nho hon man hinh gi 7 pr yeu me rat nh yeu eu positive positive 0 1\n",
            "train_001176 chưa mở ra xem notpos b  ết tn phí vận chuyển đắt 255 không flash g yêu ảm 200 không áp mã 100 notpos co  như huề 2 154 không notpos b  ết nấu tn nagative positive 0 1\n",
            "train_001177 chua mo ra xem notpos b  et tn phi van chuyen dat 255 khong flash g yeu am 200 khong ap ma 100 notpos co  nhu hue 2 154 khong notpos b  et nau tn nagative positive 0 1\n",
            "train_001290 m notpos  lắm 0 1\n",
            "train_001291 m notpos  lam 0 1\n",
            "train_001431 g yeu ong mau positive 0 1\n",
            "train_001599 chat luong thi o khong do nhung minh chon 2 mau khac nhau ma cua hang g yeu ao cho minh 2 mau g yeu ong nhau nen ho yeu buc minh positive positive positive positive 0 1\n",
            "train_001763 keo tot k yeu eu ong chich nay tra keo vao cpu t yeu en hon loa yeu hu positive positive positive positive 0 1\n",
            "train_001898 nguyent yêu enthanh 7402 positive 0 1\n",
            "train_001899 nguyent yeu enthanh 7402 positive 0 1\n",
            "train_002151 hoan ho samsung g yeu ong nhu dang nghe ke chuyen co tich vay positive 0 1\n",
            "train_002534 o không naz 0 1\n",
            "train_002535 o khong naz 0 1\n",
            "train_002626 từ kh yêu g yêu ớ yêu th yêu ệu trên thị trường đã thấy yêu thích rồ yêu cũng muốn mua một cá yêu nhưng chưa có cơ hộ yêu mà ch yêu ếc này có a yêu gọ yêu đến thì có h yêu ện lên đồng hồ không positive positive positive positive positive positive positive positive positive positive positive positive positive 0 1\n",
            "train_002627 tu kh yeu g yeu o yeu th yeu eu tren thi truong da thay yeu thich ro yeu cung muon mua mot ca yeu nhung chua co co ho yeu ma ch yeu ec nay co a yeu go yeu den thi co h yeu en len dong ho khong positive positive positive positive positive positive positive positive positive positive positive positive positive 0 1\n",
            "train_002816 nhận xong thì km nhưng mà lần này nh yêu ều khô gà hơn km k positive nagative 0 1\n",
            "train_002954 a yêu đã xà yêu htc rồ yêu thì mớ yêu có ý k yêu ến chỉ vì thích khoe bản thân nên ráng chọn hàng thờ yêu thượng thô yêu ngay tô yêu cũng vậy nhưng vẫn g yêu ữ em htc để ở nhà bền lắm vật lên vật xuống có chịu hư đâu positive positive positive positive positive positive positive nagative positive positive positive nagative 0 1\n",
            "train_003098 son bao lì 0 1\n",
            "train_003099 son bao li 0 1\n",
            "train_003103 chat luong san pham thi duoc nhung ma cua hang chay flas saleaf notpos k  em ky hang ton kho dan den 2 bo cua minh deu het hang het co minh dong y do yeu sang 1 bo ca yeu lech nhung nay minh mo yeu thay thi bo ca yeu lech re t yeu en hon bo co lo nagat yeu ve 1 bo minh dong y do yeu sang mau trang nhung quan thi la yeu pha yeu lay co to hon loc coc positive positive positive positive positive positive positive positive positive positive positive positive positive positive 0 1\n",
            "train_003140 m yêu ̀ nh rất th yêu ́ ch sản phẩm của sony laptop th yêu m yêu ̀ nh cũng chọn sony va yêu o m yêu ̀ nh đã từng xà yêu qua sony z z1 z3 m yêu ̀ nh x yêu n có ý k yêu ến như sau star tấc cả các model khác của sony th yêu ̀ chất lượng về màu sắc camera đều không bằng sony z3 hoặc z5 cho dù bạn có chọn các model mớ yêu ra sau này của sony đ yêu nữa th yêu ̀ màn h yêu ̀ nh bảo đảm notpos  bằng sony z3 hoặc z5 đâu đơn g yêu ản v yêu ̀ model thuộc dòng z là model cao cấp nhất của sony bên mãng laptop của sony cũng vậy dòng z là đắt t yêu ền nhất positive positive positive positive positive positive positive positive positive positive positive positive positive positive positive positive positive positive positive nagative positive 0 1\n",
            "train_003141 m yeu ̀ nh rat th yeu ́ ch san pham cua sony laptop th yeu m yeu ̀ nh cung chon sony va yeu o m yeu ̀ nh da tung xa yeu qua sony z z1 z3 m yeu ̀ nh x yeu n co y k yeu en nhu sau star tac ca cac model khac cua sony th yeu ̀ chat luong ve mau sac camera deu khong bang sony z3 hoac z5 cho du ban co chon cac model mo yeu ra sau nay cua sony d yeu nua th yeu ̀ man h yeu ̀ nh bao dam notpos  bang sony z3 hoac z5 dau don g yeu an v yeu ̀ model thuoc dong z la model cao cap nhat cua sony ben mang laptop cua sony cung vay dong z la dat t yeu en nhat positive positive positive positive positive positive positive positive positive positive positive positive positive positive positive positive positive positive positive nagative positive 0 1\n",
            "train_003236 x yêu aom yêu và romos h yêu ện tạ yêu ở vn đã có rất nh yêu ều nhà phân phố yêu lớn nhé bạn lỗ yêu đổ yêu cá yêu mớ yêu luôn chứ khôngphả yêu tào lao đâu mà bán ra và yêu trăm cục mớ yêu lỗ yêu 1 cục xác suất lỗ yêu rất thấp nhé bác yêu cầu khôngbị móp méo rơ yêu vỡ hay vào nước là bảo hành tuốt tất nh yêu ên là trừ kh yêu bác mua hàng giả mạo nhé positive positive positive positive positive positive positive positive positive positive positive positive positive positive positive nagative positive positive positive nagative 0 1\n",
            "train_003237 x yeu aom yeu va romos h yeu en ta yeu o vn da co rat nh yeu eu nha phan pho yeu lon nhe ban lo yeu do yeu ca yeu mo yeu luon chu khongpha yeu tao lao dau ma ban ra va yeu tram cuc mo yeu lo yeu 1 cuc xac suat lo yeu rat thap nhe bac yeu cau khongbi mop meo ro yeu vo hay vao nuoc la bao hanh tuot tat nh yeu en la tru kh yeu bac mua hang gia mao nhe positive positive positive positive positive positive positive positive positive positive positive positive positive positive positive nagative positive positive positive nagative 0 1\n",
            "train_003314 g yêu ao hàng rất nhanh đặt từ 1h30 ch yêu ều ngày 16 7 đến trước 5h30 đã có hàng không có lỗ yêu lầm nào cả dùng rất mượt chơ yêu các game như l yêu ên quân không hề g yêu ật đứng hình đ yêu ểm trừ là chưa có gam yêu ng mode và ứng dụng camera notpos  positive positive positive nagative positive positive positive positive positive 0 1\n",
            "train_003370 đã mấy năm nay chả a yêu mang camera của yêu p ra so vớ yêu không e cả vì không e đã vượt xa yêu p rồ yêu positive positive positive positive positive 0 1\n",
            "train_003371 da may nam nay cha a yeu mang camera cua yeu p ra so vo yeu khong e ca vi khong e da vuot xa yeu p ro yeu positive positive positive positive positive 0 1\n",
            "train_003412 hàng notpos phả  giả mạo đâu mua về xem thấy vu yêu quá trờ yêu nagative positive positive 0 1\n",
            "train_003413 hang notpos pha  gia mao dau mua ve xem thay vu yeu qua tro yeu nagative positive positive 0 1\n",
            "train_003464 lúc mua có không e là gọ yêu trc kh yêu g yêu ao 15 ’ nhưng kh yêu tớ yêu mớ yêu gọ yêu khôngcó a yêu nhận hẹn qa ngày ma yêu thì g yêu ao hàng khôngchịuphả yêu qành về nhận hàng hàng thì o không positive positive positive positive positive positive positive positive positive positive positive 0 1\n",
            "train_003465 luc mua co khong e la go yeu trc kh yeu g yeu ao 15 ’ nhung kh yeu to yeu mo yeu go yeu khongco a yeu nhan hen qa ngay ma yeu thi g yeu ao hang khongchiupha yeu qanh ve nhan hang hang thi o khong positive positive positive positive positive positive positive positive positive positive positive 0 1\n",
            "train_003466 còn hơn cả sự mong đợ yêu vừa như yêu n positive positive 0 1\n",
            "train_003467 con hon ca su mong do yeu vua nhu yeu n positive positive 0 1\n",
            "train_003544 sản phẩm nhìn o notpos  nhưng góp ý thêm cửa hàng hồ yêu âm t yêu n nhắn lâu quá mình hỏ yêu để b yêu ết mang cỡ nào được hôm sau cửa hàng mớ yêu trả lờ yêu kh yêu đó mình đặt hàng rồ yêu h mang hơ yêu rộng tý khôngôm chân positive positive nagative positive positive positive positive positive positive positive positive 0 1\n",
            "train_003722 theo tô yêu nên phát tr yêu ển các thành phố vệ t yêu nh và thủ đô notpos phả  là thành phố k yêu nh tế như tp hcm positive positive positive positive 0 1\n",
            "train_003723 theo to yeu nen phat tr yeu en cac thanh pho ve t yeu nh va thu do notpos pha  la thanh pho k yeu nh te nhu tp hcm positive positive positive positive 0 1\n",
            "train_003814 sản phầm g yêu ống hình g yêu ao hàng nhanh có đ yêu ều mặt trên của thảm có chỗ bị xước mất hết ma xát nên mong cửa hàng k yêu ểm tra kĩ sản phẩm trc kh yêu gử yêu đ yêu positive positive positive nagative positive positive positive positive 0 1\n",
            "train_004020 g yêu áo hàng có chậm trễ nhưng được cá yêu ưng ý về chất lượng notpos g  ống nơ yêu khác g yêu ao hàng gần hết hạn sử dụng positive positive positive positive positive positive positive 0 1\n",
            "train_004021 g yeu ao hang co cham tre nhung duoc ca yeu ung y ve chat luong notpos g  ong no yeu khac g yeu ao hang gan het han su dung positive positive positive positive positive positive positive 0 1\n",
            "train_004286 chất vả yêu như pha n yêu lông nhưng dù sao số t yêu ền bỏ ra notpos nh  ều nên không có gì thắc mắc positive positive positive 0 1\n",
            "train_004287 chat va yeu nhu pha n yeu long nhung du sao so t yeu en bo ra notpos nh  eu nen khong co gi thac mac positive positive positive 0 1\n",
            "train_004314 theo tô yêu một năm mà hà nộ yêu mớ yêu đ yêu ều tra phát h yêu ện 25 vụ có dấu h yêu ệu tham nhũng thì có thể do ha yêu yếu tố sau br 1 công chức bây g yêu ờ quá trong sạch nên ở một thủ đô vớ yêu vô vàn lĩnh vực như vậy mà chỉ có 25 vụ có dấu h yêu ệu tham nhũng 2 theo tô yêu nên đ yêu ều tra cơ quan có chức năng chống tham nhũng xem họ quá kém về năng lực hay có nguyên nhân khác positive positive positive positive positive positive nagative positive positive positive positive nagative positive positive nagative 0 1\n",
            "train_004315 theo to yeu mot nam ma ha no yeu mo yeu d yeu eu tra phat h yeu en 25 vu co dau h yeu eu tham nhung thi co the do ha yeu yeu to sau br 1 cong chuc bay g yeu o qua trong sach nen o mot thu do vo yeu vo van linh vuc nhu vay ma chi co 25 vu co dau h yeu eu tham nhung 2 theo to yeu nen d yeu eu tra co quan co chuc nang chong tham nhung xem ho qua kem ve nang luc hay co nguyen nhan khac positive positive positive positive positive positive nagative positive positive positive positive nagative positive positive nagative 0 1\n",
            "train_004375 hang o khong 0 1\n",
            "train_004512 gó yêu g yêu ấy bé hơn loạ yêu 22 25k positive positive positive 0 1\n",
            "train_004513 go yeu g yeu ay be hon loa yeu 22 25k positive positive positive 0 1\n",
            "train_004656 o notpos  đáy 0 1\n",
            "train_004657 o notpos  day 0 1\n",
            "train_004784 t yêu ền nào của đó nó yêu chung tạm đuợc mình không th gì c notpos cá  mặt kính lồ yêu phía trên ô ngày th yêu ết kế nố yêu dây đeo vào thân máy khá mỏng manh máy quá dày gây vuớng kh yêu mặc som yêu positive positive positive positive positive positive positive 0 1\n",
            "train_004785 t yeu en nao cua do no yeu chung tam duoc minh khong th gi c notpos ca  mat kinh lo yeu phia tren o ngay th yeu et ke no yeu day deo vao than may kha mong manh may qua day gay vuong kh yeu mac som yeu positive positive positive positive positive positive positive 0 1\n",
            "train_004926 t yêu ền nào của ý positive 0 1\n",
            "train_004927 t yeu en nao cua y positive 0 1\n",
            "train_005100 mình đang dung không e 3 gần năm vẫn chạy tốt chỉ hư phần cảm ứng kh yêu không dùng bút nhưng đã đặt cọc không e 7 đang trong chờ ngày ra mắt positive nagative positive 0 1\n",
            "train_005256 mua duoc vo yeu g yeu a flash 5 khong kem do yeu gold danh g yeu a do yeu nay co g yeu ay de chiu hon notnag  co xat gay kho chiu ca 2 do yeu d yeu em chan khong nong nhu g yeu ay tay 😌 positive positive positive positive positive positive positive positive nagative positive positive positive 0 1\n",
            "train_005483 theo mình nghĩ chát đay khôngphả yêu la mục xay ma la thịch heo th yêu pha yêu khôngco mu yêu v yêu của nó nhúng van cho 5 star star star star star mong cửa hàng bán hang co tam đưng v yêu ham muốn lờ yêu nhuan nh yêu eu ma khôngcòn la chính mình gì h nữa positive positive positive positive positive positive positive positive 0 1\n",
            "train_005626 hang dep nhung co kich cobao can nang len han 3 khong ma mac quan ao van bi chat positive nagative nagative nagative 0 1\n",
            "train_005881 bức hình nào là nhỏ xíu và 950 chưa b gì o là cá yêu đt có camera cù yêu positive positive 0 1\n",
            "train_005882 buc hinh nao la nho xiu va 950 chua b gi o la ca yeu dt co camera cu yeu positive positive 0 1\n",
            "train_006321 đã nhận được hàng đặt hàng gh yêu chú lấy màu đen nhưng kh yêu gử yêu lạ yêu gử yêu màu xanh bây g yêu ờ muốn đổ yêu lạ yêu sang màu đen g yêu ày nhẹ chưa sử dụng nên notpos b  ết chất lượng như thế nào positive positive positive positive positive positive positive positive positive positive positive positive 0 1\n",
            "train_006322 da nhan duoc hang dat hang gh yeu chu lay mau den nhung kh yeu gu yeu la yeu gu yeu mau xanh bay g yeu o muon do yeu la yeu sang mau den g yeu ay nhe chua su dung nen notpos b  et chat luong nhu the nao positive positive positive positive positive positive positive positive positive positive positive positive 0 1\n",
            "train_006481 samsung làm chủ dây truyền và công nghệ ho tha hồ ra sản phẩm yêu phon muốn làm cá yêu vỏ cũng phả yêu đ yêu thuê hãng khác làm positive positive positive positive 0 1\n",
            "train_006482 samsung lam chu day truyen va cong nghe ho tha ho ra san pham yeu phon muon lam ca yeu vo cung pha yeu d yeu thue hang khac lam positive positive positive positive 0 1\n",
            "train_006623 huawe yêu matebo không đầu tư kĩ lưỡng ghê muốn có em nó quá à positive nagative 0 1\n",
            "train_006782 mo yeu nhan duoc hang chua xem nhung nh yeu ̀ n cach dong go yeu thi khongha yeu long khongb yeu et do cua hang hay do ben van chuyen positive positive positive positive positive positive 0 1\n",
            "train_007081 mình nó yêu s6 s 6 egde xanh lục bảo ngườ yêu châu á rất chuộng positive positive 0 1\n",
            "train_007082 minh no yeu s6 s 6 egde xanh luc bao nguo yeu chau a rat chuong positive positive 0 1\n",
            "train_007216 pha yeu co otg mo yeu dung duoc nha a yeu khongxa yeu duoc thi dung vao rate 1star nha to yeu cua hang lam nagat yeu ve nagat yeu ve nagat yeu ve positive positive positive positive positive positive nagative positive positive positive positive 0 1\n",
            "train_007235 sản phẩm g yêu ong trong h yêu ̀ nh positive positive 0 1\n",
            "train_007256 cua hang phuc vu khach chu dao positive 0 1\n",
            "train_007340 con e y het con nay nghe bas manh khongre cung mung positive 0 1\n",
            "train_007560 dung duoc 2 ngay ro yeu thay cung do tham positive positive nagative 0 1\n",
            "train_007614 ch yeu eu da yeu vua n phan co chan ho yeu rong yeu khong notpos thoa  ma yeu 1 positive positive positive positive positive 0 1\n",
            "train_007691 g yêu ao hàng quá chậm trog thàh phố mà tận 4 ngày nhưng máy thì xà yêu được positive nagative positive positive 0 1\n",
            "train_007692 g yeu ao hang qua cham trog thah pho ma tan 4 ngay nhung may thi xa yeu duoc positive nagative positive positive 0 1\n",
            "train_008219 sản phẩm dùng o không một lưu ý nhỏ phần móc tay bằng chun bị sờn chỉ kh yêu sử dụng ngay lần đầu nagative positive 0 1\n",
            "train_008220 san pham dung o khong mot luu y nho phan moc tay bang chun bi son chi kh yeu su dung ngay lan dau nagative positive 0 1\n",
            "train_008272 be nha minh khong hop tac h yeu ch yeu c positive positive 0 1\n",
            "train_008277 hàng o notpos 0 1\n",
            "train_008278 hang o notpos  0 1\n",
            "train_008299 sạc không dây dễ quá mà 0 1\n",
            "train_008399 mình không đọc rồ yêu khônghay lắm nh yêu ều lúc cứ v yêu ết cá yêu gì ấy notpos l  ên quan đến bình thường s gì cả nhg đó là về quyển sách còn đâu thì cửa hàng phục vụ rất tốt chỉ bị móp đầu xíu thô yêu positive positive positive positive positive nagative nagative nagative positive 0 1\n",
            "train_008400 minh khong doc ro yeu khonghay lam nh yeu eu luc cu v yeu et ca yeu gi ay notpos l  en quan den binh thuong s gi ca nhg do la ve quyen sach con dau thi cua hang phuc vu rat tot chi bi mop dau xiu tho yeu positive positive positive positive positive nagative nagative nagative positive 0 1\n",
            "train_008414 tay da chet mu yeu tra xanh sang khoa yeu lam luon san pham y nhu hinh hang duoc cua hang dong go yeu ky co d yeu em tru la do minh chuyen khoan vo yeu o can ho nen kh yeu g yeu ao hang nguo yeu g yeu ao notpos go  bao da g yeu ao ma cu the dua cho le tan neu bao ve notpos no  chac minh cung notpos b  et la hang den ro yeu nagat yeu ve nagative positive positive positive positive positive positive positive positive positive positive positive positive positive positive 0 1\n",
            "train_008518 mu s yeu eu dthuong positive 0 1\n",
            "train_008538 ao vua van co ma bung quan s yeu eu chat nagat yeu ve chun quan be ti t yeu positive nagative positive positive 0 1\n",
            "train_008605 chất lượng bánh và sốt đ yêu kèm khá o không trừ v yêu ệc 2 4 tú yêu sốt bị bục ra gần hết thùng hàng nagat yêu ve positive positive positive positive nagative positive 0 1\n",
            "train_008606 chat luong banh va sot d yeu kem kha o khong tru v yeu ec 2 4 tu yeu sot bi buc ra gan het thung hang nagat yeu ve positive positive positive positive nagative positive 0 1\n",
            "train_008811 vo yêu g yêu á t yêu en th yêu củng được nhung da bị lo yêu 1chuc positive positive positive positive positive nagative positive 0 1\n",
            "train_008819 hang dom sac đuoc va yêu lan đa hong l yêu en he vo yêu cửa hàng đe bao hanh nhung cửa hàng không tra lo yêu that la that vong qua đ yêu dung la hang trung quoc hang dom positive positive positive positive positive 0 1\n",
            "train_008820 hang dom sac duoc va yeu lan da hong l yeu en he vo yeu cua hang de bao hanh nhung cua hang khong tra lo yeu that la that vong qua d yeu dung la hang trung quoc hang dom positive positive positive positive positive 0 1\n",
            "train_008935 qua ngondanh lua kha manh xem bong tay positive 0 1\n",
            "train_009168 dầu dừa nhanh khô không bết dính nếu có tác dụng tốt thì quá o notpos bô  tầm 5 phút thì còn phản phát chút mù yêu dầu dừa chứ khôngmỡ như dầu dừa nguyên chất nagative positive positive positive 0 1\n",
            "train_009169 dau dua nhanh kho khong bet dinh neu co tac dung tot thi qua o notpos bo  tam 5 phut thi con phan phat chut mu yeu dau dua chu khongmo nhu dau dua nguyen chat nagative positive positive positive 0 1\n",
            "train_009316 ban la hong ma cung dám ban la sao cho so đ yêu ện thoạ yêu de l yêu ên lạc cung o không dung o notpos b  ết co pha yêu lua dao o không day positive positive positive positive 0 1\n",
            "train_009317 ban la hong ma cung dam ban la sao cho so d yeu en thoa yeu de l yeu en lac cung o khong dung o notpos b  et co pha yeu lua dao o khong day positive positive positive positive 0 1\n",
            "train_009346 cửa hàng cho t hỏ yêu hn t ms nhận hàng t hà yêu lòng về chất lượng và muốn đặt thêm một ch yêu ếc nửa g yêu á g yêu ao hàng lạ yêu cao hơn trong kh yêu vẫn địa chỉ củ positive positive positive positive positive positive positive positive 0 1\n",
            "train_009347 cua hang cho t ho yeu hn t ms nhan hang t ha yeu long ve chat luong va muon dat them mot ch yeu ec nua g yeu a g yeu ao hang la yeu cao hon trong kh yeu van dia chi cu positive positive positive positive positive positive positive positive 0 1\n",
            "train_009389 nho nhan dum do d yeu vang notpos b  et sao positive 0 1\n",
            "train_009405 ca yeu chuo yeu nay khongt yeu en vi ho yeu da yeu 2 canh ngan cu choc vao mat duoc ca yeu mem mn mua nen can nhac loa yeu cam tay hoac huou positive positive positive positive positive nagative positive positive positive 0 1\n",
            "train_009526 yêu phone có yêu os vốn đã chạy nhanh nay tăng ram lên là chạy như tên lửa positive positive 0 1\n",
            "train_009674 sam sung bất w yêu f yêu thì notpos đố  rồ yêu positive positive positive 0 1\n",
            "train_009675 sam sung bat w yeu f yeu thi notpos do  ro yeu positive positive positive 0 1\n",
            "train_009738 g yêu ao th yêu ếu cửa hàng da hoàn t yêu ền positive positive positive 0 1\n",
            "train_009739 g yeu ao th yeu eu cua hang da hoan t yeu en positive positive positive 0 1\n",
            "train_009761 cần có quy định rõ ràng và xử phạt ngh yêu êm m yêu nh vớ yêu những trường hợp th yêu công gây mất an toàn cho ngườ yêu tham g yêu a g yêu ao thông positive positive positive positive positive positive positive 0 1\n",
            "train_009762 can co quy dinh ro rang va xu phat ngh yeu em m yeu nh vo yeu nhung truong hop th yeu cong gay mat an toan cho nguo yeu tham g yeu a g yeu ao thong positive positive positive positive positive positive positive 0 1\n",
            "train_009835 nhìn yêu quá positive 0 1\n",
            "train_009836 nhin yeu qua positive 0 1\n",
            "train_009867 sản phẩm được còn độ bền thì thờ yêu g yêu an trả lờ yêu positive positive positive positive 0 1\n",
            "train_009868 san pham duoc con do ben thi tho yeu g yeu an tra lo yeu positive positive positive positive 0 1\n",
            "train_009908 cung duong vang nang neu nhu xuat ban truoc oxford thuong yeu co le se tao h yeu eu ung tot hon duong nhu ca yeu bong cua oxford thuong yeu qua lon lam cho nhung cau chuyen sau nay cua duong thuy cho du co gang van khong the thoat ra duoc khong kich tinh nhu oxford thuong yeu khong manh l yeu et nhu nham mat thay par yeu s cung duong vang nang nhe nhang hon sau mo yeu cau chuyen cua duong thuy duong nhu co lap lo hinh anh cua nhan vat t yeu ep theo co the no yeu day la chu de notpos mo  nhung cot truyen van lo yeu cuon r yeu eng ca nhan to yeu cam thay ket thuc qua dot ngot va co phan ho yeu guong ep g yeu ong nhu la tat nh yeu en no pha yeu the positive positive positive positive positive positive positive positive positive positive positive positive positive positive positive 0 1\n",
            "train_009963 mỏng và nhẹ nagative 0 1\n",
            "train_009964 mong va nhe nagative 0 1\n",
            "train_010097 bạn h yêu ghl yêu ghter này thì không cần phả yêu bàn tớ yêu rồ yêu h yêu ghly recomended positive positive positive positive positive positive 0 1\n",
            "train_010098 ban h yeu ghl yeu ghter nay thi khong can pha yeu ban to yeu ro yeu h yeu ghly recomended positive positive positive positive positive positive 0 1\n",
            "train_010470 o khong chat l yeu eu mat me positive 0 1\n",
            "train_010641 lớp màu trên dây qua yêu đeo trên bề mặt đồng hồ bị tróc vừa vớ yêu g yêu á positive nagative nagative positive positive 0 1\n",
            "train_010642 lop mau tren day qua yeu deo tren be mat dong ho bi troc vua vo yeu g yeu a positive nagative nagative positive positive 0 1\n",
            "train_010739 tạm được t yêu ền nào của ấy positive positive 0 1\n",
            "train_010740 tam duoc t yeu en nao cua ay positive positive 0 1\n",
            "train_010789 mình đặt nhầm cho con yêu p8 nagative positive 0 1\n",
            "train_010897 nâng lên cho cao xong tìm cách hạ xuống chỉ có thể là sam sung 0 1\n",
            "train_010898 nang len cho cao xong tim cach ha xuong chi co the la sam sung 0 1\n",
            "train_010964 nhan ro yeu da xa yeu loa yeu tra xanh mua dung thu thay do yeu mu yeu lua mach thay thom chua dung mu yeu k yeu a positive positive positive positive positive positive positive 0 1\n",
            "train_011093 sản phẩm duoc 0 1\n",
            "train_011149 sản phẩm o không chỉ có chữ trung quốc hơ yêu khó h yêu ểu mò mã yêu mớ yêu ra positive nagative positive positive positive 0 1\n",
            "train_011183 cà yêu sao z cửa hàng ơ yêu positive positive 0 1\n",
            "train_011184 ca yeu sao z cua hang o yeu positive positive 0 1\n",
            "train_011209 chuột chạy được khôngb yêu ết xà yêu được bao lâu đóng gó yêu tệ chuột khôngcó hộp của hãng chỉ được bọc trong bịch n yêu lon hộp ngoà yêu bị móp méo positive positive positive positive positive positive positive nagative nagative 0 1\n",
            "train_011210 chuot chay duoc khongb yeu et xa yeu duoc bao lau dong go yeu te chuot khongco hop cua hang chi duoc boc trong bich n yeu lon hop ngoa yeu bi mop meo positive positive positive positive positive positive positive nagative nagative 0 1\n",
            "train_011429 chất lương g yêu ấy tốt tuy nh yêu ên đóng gó yêu ẩu g yêu ao đến bao g yêu ấy rách hết nên g yêu ấy bị bẩn positive positive positive positive nagative positive positive nagative positive nagative 0 1\n",
            "train_011433 hàng hết nhưng cửa hàng không thông báo để mình huỷ đơn hàng đến lúc lấy hàng về rồ yêu mình mớ yêu b yêu ết th yêu ếu 1 đô yêu g yêu ày mặc dù đã thanh toán đủ nhưng mình notpos lạ  notpos đổ  thành t yêu ền mặt được và chậm chễ hàng của khách đặt nagat yêu ve h yêu vọng cửa hàng sẽ rút k yêu nh ngh yêu ệm nagat yêu ve positive positive positive positive positive positive positive positive nagative positive positive positive positive positive 0 1\n",
            "train_011434 hang het nhung cua hang khong thong bao de minh huy don hang den luc lay hang ve ro yeu minh mo yeu b yeu et th yeu eu 1 do yeu g yeu ay mac du da thanh toan du nhung minh notpos la  notpos do  thanh t yeu en mat duoc va cham che hang cua khach dat nagat yeu ve h yeu vong cua hang se rut k yeu nh ngh yeu em nagat yeu ve positive positive positive positive positive positive positive positive nagative positive positive positive positive positive 0 1\n",
            "train_011503 không e lạ yêu vớ yêu cửa hàng là gó yêu kĩ thì hên quá là phấn notnag  gì nhưng em đặt 2 bảng khác nhau 1 và 2 mà cửa hàng nhầm thành 2 bảng 1 em đặt chung vớ yêu bạn nên nó o không không sao chứ em mà đặt 1 mình là 2 bảng cùng màu notpos b  ết xà yêu sao cho hết cửa hàng đồng ý hoàn t yêu ền và đổ yêu trả nhưng em thấy trả lạ yêu khá rắc rố yêu nên th positive positive positive nagative positive positive positive positive positive positive 0 1\n",
            "train_011504 khong e la yeu vo yeu cua hang la go yeu ki thi hen qua la phan notnag  gi nhung em dat 2 bang khac nhau 1 va 2 ma cua hang nham thanh 2 bang 1 em dat chung vo yeu ban nen no o khong khong sao chu em ma dat 1 minh la 2 bang cung mau notpos b  et xa yeu sao cho het cua hang dong y hoan t yeu en va do yeu tra nhung em thay tra la yeu kha rac ro yeu nen th positive positive positive nagative positive positive positive positive positive positive 0 1\n",
            "train_011579 ủa sao đơn hang co 498 không ma sh yêu per thu 598 không vay e nhờ mẹ e lay dùmhn mớ yêu nhớ vào co yêu lạ yêu g yêu á thấy có 498k positive positive positive positive positive 0 1\n",
            "train_011698 mo yeu mua em no mo yeu dau muon do yeu may khac ma sau cang xa yeu cang suong positive positive positive positive 0 1\n",
            "train_011761 tuy g yêu ao hàng th yêu ếu nhưng bên cửa hàng g yêu ả yêu quyết thoả đáng positive positive positive positive 0 1\n",
            "train_011762 tuy g yeu ao hang th yeu eu nhung ben cua hang g yeu a yeu quyet thoa dang positive positive positive positive 0 1\n",
            "train_011908 duoc do positive 0 1\n",
            "train_011971 may quá đang định xuống t yêu ền mau yêu phone 6s 64gb g yêu ờ găp em này quất luôn lạ yêu dư được ít t yêu ền positive positive positive positive positive positive positive 0 1\n",
            "train_011972 may qua dang dinh xuong t yeu en mau yeu phone 6s 64gb g yeu o gap em nay quat luon la yeu du duoc it t yeu en positive positive positive positive positive positive positive 0 1\n",
            "train_012023 sản phẩm tươ yêu cửa hàng chu đáo trả lờ yêu khách positive positive positive 0 1\n",
            "train_012024 san pham tuo yeu cua hang chu dao tra lo yeu khach positive positive positive 0 1\n",
            "train_012041 hộp còn nguyên tem chưa có dấu h yêu ệu bị bóc son thơm mù yêu kẹo mà lạ yêu mướt nữa nagat yêu ve nagat yêu ve notpos sa  lầm kh yêu mua ha yêu cây về positive nagative positive positive positive positive nagative positive positive 0 1\n",
            "train_012042 hop con nguyen tem chua co dau h yeu eu bi boc son thom mu yeu keo ma la yeu muot nua nagat yeu ve nagat yeu ve notpos sa  lam kh yeu mua ha yeu cay ve positive nagative positive positive positive positive nagative positive positive 0 1\n",
            "train_012079 mù yêu thơm dã man c v yêu ạ positive nagative positive 0 1\n",
            "train_012476 to yeu nho cu chac positive 0 1\n",
            "train_012975 mo yeu mua ve 1 cay l yeu en mua them nua positive positive 0 1\n",
            "train_013238 đóng gó yêu sản phẩm kỷ càng nhưng khu yêu ra thì hộp đựng móp méo vỏ bảo vệ của sản phẩm bị nứt do va đập có thể do vận chuyển quăng ném nên mớ yêu bị vậy positive positive nagative nagative positive nagative 0 1\n",
            "train_013239 dong go yeu san pham ky cang nhung khu yeu ra thi hop dung mop meo vo bao ve cua san pham bi nut do va dap co the do van chuyen quang nem nen mo yeu bi vay positive positive nagative nagative positive nagative 0 1\n",
            "train_013267 chất vả yêu o notpos  positive 0 1\n",
            "train_013268 chat va yeu o notpos  positive 0 1\n",
            "train_013285 nhu trong hình 0 1\n",
            "train_013286 nhu trong hinh 0 1\n",
            "train_013554 to yeu da nhan hang ngay thu 2 16 07 2018 va mang ve cam d yeu en nhung hop dung dong ho chi chay duoc mot dem den sang hom sau thi dong co khong con quay nua va h yeu en da ngung hoat dong hoan toan to yeu da l yeu en he tong da yeu cua hang e de lam thu tuc tra la yeu hang mong cua hang ho tro cho ben cua hang e cam on positive positive positive positive positive positive positive positive positive 0 1\n",
            "train_013889 cua hang g yeu ao nham loa yeu cho minh h yeu vong lan sau cua hang can than hon a positive nagative positive positive positive 0 1\n",
            "train_014068 cau hinh manh nhung su dung hay bi out chuong trinh positive nagative 0 1\n",
            "train_014220 may dung o notpos   0 1\n",
            "train_014756 thay o notpos ro  do 0 1\n",
            "train_014826 tô yêu chả h yêu ểu ý tưởng xây hầm ngầm vượt sông hồng để g yêu ả yêu quyết ùn tắc là sao nữa positive positive positive positive 0 1\n",
            "train_014827 to yeu cha h yeu eu y tuong xay ham ngam vuot song hong de g yeu a yeu quyet un tac la sao nua positive positive positive positive 0 1\n",
            "train_014870 cá yêu cạnh chỗ ha yêu bên cánh con dơ yêu vẫn bén quá cửa hàng o yêu lấy g yêu ấy g yêu áp oánh được ko positive positive nagative positive positive positive positive positive positive 0 1\n",
            "train_014996 cửa hàng gó yêu hàng kĩ quá tr lun phía ngoà yêu cửa hộp notnag   méo gì hết bomb cũng notnag  trầy xước gì hết vẫn nguyên vẹn positive positive 0 1\n",
            "train_014997 cua hang go yeu hang ki qua tr lun phia ngoa yeu cua hop notnag   meo gi het bomb cung notnag  tray xuoc gi het van nguyen ven positive positive 0 1\n",
            "train_015056 ăn gh yêu ền luôn positive 0 1\n",
            "train_015057 an gh yeu en luon positive 0 1\n",
            "train_015122 sản phẩm đúng như g yêu ớ yêu th yêu ệu positive positive positive positive 0 1\n",
            "train_015123 san pham dung nhu g yeu o yeu th yeu eu positive positive positive positive 0 1\n",
            "train_015684 g yêu ao hàng nhanh nhưng cửa hàng k yêu ểm tra lạ yêu g yêu ùm đặt hàng là cỡ macbo notpos 13  nch thông số tú yêu 35x24x3 còn tú yêu nhận được là 14 yêu nch 37x25x3 như ảnh chụp đề nghị cửa hàng đổ yêu lạ yêu vì mình sử dụng còn cho tú yêu này vào tú yêu khác đang có cùng yêu pad nhưng khôngnhét vừa chỉ vừa theo cỡ 13 yêu nch positive positive positive positive positive positive positive positive positive positive positive positive positive positive 0 1\n",
            "train_015685 g yeu ao hang nhanh nhung cua hang k yeu em tra la yeu g yeu um dat hang la co macbo notpos 13  nch thong so tu yeu 35x24x3 con tu yeu nhan duoc la 14 yeu nch 37x25x3 nhu anh chup de nghi cua hang do yeu la yeu vi minh su dung con cho tu yeu nay vao tu yeu khac dang co cung yeu pad nhung khongnhet vua chi vua theo co 13 yeu nch positive positive positive positive positive positive positive positive positive positive positive positive positive positive 0 1\n",
            "train_015954 sao x yêu t vao thay huong thom bay đ yêu rat nhanh khôngg yêu ong như chao chảrm cua ban m yêu nh huong bình thường homw lâu cực positive positive positive positive nagative 0 1\n",
            "train_015955 sao x yeu t vao thay huong thom bay d yeu rat nhanh khongg yeu ong nhu chao charm cua ban m yeu nh huong binh thuong homw lau cuc positive positive positive positive nagative 0 1\n",
            "train_015965 hang rat o khong se mua them nua notpos pha  hang notpos  kem khong an son ma la do cac ban khong tay te bao chet cho mo yeu da khong tay thi da day son nao dinh no yeu vao mo yeu cac ban minh xa yeu va thay ha yeu long muon do yeu mo yeu san chac cac ban pha yeu chiu kho 1 ty nagative positive positive positive positive positive positive positive positive 0 1\n",
            "train_016009 doan can bo cua tp hcm bao cao rang can co chinh sach quyet l yeu et hon nham han che xe ca nhan the thi ca yeu d yeu eu log yeu c la xe cong cong pha yeu phat tr yeu en manh positive positive positive positive positive positive positive 0 1\n"
          ]
        }
      ]
    },
    {
      "cell_type": "code",
      "source": [
        "#Đánh giá mô hình\n",
        "#CROSS VALIDATION\n",
        "cross_score = cross_val_score(clf, X_train,y_train, cv=5)"
      ],
      "metadata": {
        "id": "JCK1b7FVLekX"
      },
      "execution_count": null,
      "outputs": []
    },
    {
      "cell_type": "code",
      "source": [
        "# in kết quả đánh giá\n",
        "print('DATASET LEN %d'%(len(X_train)))\n",
        "print('TRAIN 70/30 \\n\\n',report1)\n",
        "print('TRAIN OVERFITING\\n\\n',report2)\n",
        "print(\"CROSSVALIDATION 5 FOLDS: %0.4f (+/- %0.4f)\" % (cross_score.mean(), cross_score.std() * 2))"
      ],
      "metadata": {
        "id": "1-arw2tWJr0o",
        "colab": {
          "base_uri": "https://localhost:8080/"
        },
        "outputId": "6e284b20-7918-4271-bb29-feb9b97a6168"
      },
      "execution_count": null,
      "outputs": [
        {
          "output_type": "stream",
          "name": "stdout",
          "text": [
            "DATASET LEN 32146\n",
            "TRAIN 70/30 \n",
            "\n",
            "               precision    recall  f1-score   support\n",
            "\n",
            "           1      0.918     0.939     0.928      4438\n",
            "           0      0.947     0.929     0.938      5206\n",
            "\n",
            "    accuracy                          0.933      9644\n",
            "   macro avg      0.932     0.934     0.933      9644\n",
            "weighted avg      0.934     0.933     0.933      9644\n",
            "\n",
            "TRAIN OVERFITING\n",
            "\n",
            "               precision    recall  f1-score   support\n",
            "\n",
            "           1      0.973     0.979     0.976     14766\n",
            "           0      0.982     0.977     0.980     17380\n",
            "\n",
            "    accuracy                          0.978     32146\n",
            "   macro avg      0.978     0.978     0.978     32146\n",
            "weighted avg      0.978     0.978     0.978     32146\n",
            "\n",
            "CROSSVALIDATION 5 FOLDS: 0.9318 (+/- 0.0101)\n"
          ]
        }
      ]
    },
    {
      "cell_type": "code",
      "source": [
        "##lưu dữ liệu kết quả phân tích vào FILE SUBMIT\n",
        "test_list = []\n",
        "for document in test_data.review:\n",
        "    document = normalize_text(document)\n",
        "    test_list.append(document)\n",
        "y_predict = clf.predict(test_list)\n",
        "test_data['label'] = y_predict\n",
        "# test_data['content'] = test_list\n",
        "test_data = test_data.sort_values(by=['label'])\n",
        "test_data[['id', 'label']].to_csv('submit.csv', index=False)"
      ],
      "metadata": {
        "id": "Ui_UJGsnJpwW"
      },
      "execution_count": null,
      "outputs": []
    },
    {
      "cell_type": "code",
      "source": [
        "##phân tích kết quả thu được bằng đồ thị:\n",
        "import matplotlib.pyplot as plt\n",
        "\n",
        "# Đọc dữ liệu từ file CSV vào một DataFrame của pandas\n",
        "data = pd.read_csv('submit.csv')\n",
        "# Xác định cột dữ liệu bạn muốn sử dụng để vẽ biểu đồ tròn\n",
        "column_to_plot = 'label'\n",
        "\n",
        "# Tính toán số lần xuất hiện của từng giá trị trong cột dữ liệu\n",
        "value_counts = data[column_to_plot].value_counts()\n",
        "\n",
        "# Vẽ biểu đồ tròn\n",
        "plt.figure(figsize=(8, 8))\n",
        "domain_names = ['Positive','Negative']\n",
        "plt.pie(value_counts, labels=value_counts.index, autopct='%1.1f%%', startangle=140)\n",
        "plt.axis('equal')  # Đảm bảo biểu đồ tròn có hình dạng hợp lý\n",
        "plt.title('Biểu đồ tròn thể hiện phân phối các giá trị')\n",
        "plt.legend(domain_names, title='Chú thích', loc='upper right')\n",
        "plt.show()"
      ],
      "metadata": {
        "colab": {
          "base_uri": "https://localhost:8080/"
        },
        "id": "Hc5LxPSKfINV",
        "outputId": "239f7d76-2ccc-486e-dfdd-96d2e65af644"
      },
      "execution_count": null,
      "outputs": [
        {
          "output_type": "display_data",
          "data": {
            "text/plain": [
              "<Figure size 800x800 with 1 Axes>"
            ],
            "image/png": "[encoded data removed]"
          },
          "metadata": {}
        }
      ]
    },
    {
      "cell_type": "markdown",
      "source": [
        "# Mục mới"
      ],
      "metadata": {
        "id": "tQ7q6GpMSSoW"
      }
    }
  ]
}